{
 "cells": [
  {
   "cell_type": "code",
   "execution_count": 13,
   "metadata": {},
   "outputs": [],
   "source": [
    "import glob\n",
    "import os\n",
    "import shutil"
   ]
  },
  {
   "cell_type": "code",
   "execution_count": 7,
   "metadata": {},
   "outputs": [],
   "source": [
    "dataset_path = 'D:\\\\dl\\\\CNN\\\\indian_food_classification\\\\dataset\\\\'"
   ]
  },
  {
   "cell_type": "code",
   "execution_count": 18,
   "metadata": {},
   "outputs": [
    {
     "name": "stdout",
     "output_type": "stream",
     "text": [
      "source pathL  D:\\dl\\CNN\\indian_food_classification\\dataset\\Biryani-resize\\resize\\\n",
      "dest oath:  D:\\dl\\CNN\\indian_food_classification\\dataset\\Biryani-resize\\\n",
      "\n",
      "\n",
      "source pathL  D:\\dl\\CNN\\indian_food_classification\\dataset\\Chole-Bhature-Resized\\Chole-Bhature-Resized\\\n",
      "dest oath:  D:\\dl\\CNN\\indian_food_classification\\dataset\\Chole-Bhature-Resized\\\n",
      "\n",
      "\n",
      "source pathL  D:\\dl\\CNN\\indian_food_classification\\dataset\\dal_resized\\dal_resized\\\n",
      "dest oath:  D:\\dl\\CNN\\indian_food_classification\\dataset\\dal_resized\\\n",
      "\n",
      "\n",
      "source pathL  D:\\dl\\CNN\\indian_food_classification\\dataset\\dosa_resized\\dosa_resized\\\n",
      "dest oath:  D:\\dl\\CNN\\indian_food_classification\\dataset\\dosa_resized\\\n",
      "\n",
      "\n",
      "source pathL  D:\\dl\\CNN\\indian_food_classification\\dataset\\Jalebi-Resize\\Jalebi-Resize\\\n",
      "dest oath:  D:\\dl\\CNN\\indian_food_classification\\dataset\\Jalebi-Resize\\\n",
      "\n",
      "\n",
      "source pathL  D:\\dl\\CNN\\indian_food_classification\\dataset\\Kofta-Resized\\Kofta-Resized\\\n",
      "dest oath:  D:\\dl\\CNN\\indian_food_classification\\dataset\\Kofta-Resized\\\n",
      "\n",
      "\n",
      "source pathL  D:\\dl\\CNN\\indian_food_classification\\dataset\\Naan-Resized\\Naan-Resized\\\n",
      "dest oath:  D:\\dl\\CNN\\indian_food_classification\\dataset\\Naan-Resized\\\n",
      "\n",
      "\n",
      "source pathL  D:\\dl\\CNN\\indian_food_classification\\dataset\\Paneer-Tikka-resized\\Paneer-Tikka-resized\\\n",
      "dest oath:  D:\\dl\\CNN\\indian_food_classification\\dataset\\Paneer-Tikka-resized\\\n",
      "\n",
      "\n",
      "source pathL  D:\\dl\\CNN\\indian_food_classification\\dataset\\Pani-Puri-resize\\resize\\\n",
      "dest oath:  D:\\dl\\CNN\\indian_food_classification\\dataset\\Pani-Puri-resize\\\n",
      "\n",
      "\n",
      "source pathL  D:\\dl\\CNN\\indian_food_classification\\dataset\\Pav-Bhaji-Resized\\Pav-Bhaji-Resized\\\n",
      "dest oath:  D:\\dl\\CNN\\indian_food_classification\\dataset\\Pav-Bhaji-Resized\\\n",
      "\n",
      "\n",
      "source pathL  D:\\dl\\CNN\\indian_food_classification\\dataset\\Vadapav-Resized\\Vadapav-Resized\\\n",
      "dest oath:  D:\\dl\\CNN\\indian_food_classification\\dataset\\Vadapav-Resized\\\n",
      "\n",
      "\n"
     ]
    }
   ],
   "source": [
    "base_files = os.listdir(dataset_path)\n",
    "\n",
    "for folder in base_files:\n",
    "    source_path = dataset_path + folder\n",
    "    source_path = source_path + \"\\\\\" + os.listdir(source_path)[0] + \"\\\\\"\n",
    "    print('source pathL ', source_path)\n",
    "    \n",
    "    dest_path = dataset_path + folder + \"\\\\\"\n",
    "    print('dest oath: ', dest_path)\n",
    "    print('\\n')\n",
    "    \n",
    "    for f in os.listdir(source_path):\n",
    "        shutil.move(source_path+f, dest_path+f)\n",
    "    os.rmdir(source_path)"
   ]
  },
  {
   "cell_type": "code",
   "execution_count": 26,
   "metadata": {},
   "outputs": [
    {
     "name": "stdout",
     "output_type": "stream",
     "text": [
      "Biryani-resize            229            \n",
      "Chole-Bhature-Resized     326            \n",
      "dal_resized               261            \n",
      "dosa_resized              170            \n",
      "Jalebi-Resize             306            \n",
      "Kofta-Resized             667            \n",
      "Naan-Resized              353            \n",
      "Paneer-Tikka-resized      259            \n",
      "Pani-Puri-resize          177            \n",
      "Pav-Bhaji-Resized         301            \n",
      "Vadapav-Resized           536            \n"
     ]
    }
   ],
   "source": [
    "for folder in base_files:\n",
    "    files = list(os.listdir(dataset_path+folder))\n",
    "#     print(folder ,\" image: \\t\",len(files))\n",
    "    print (\"{:<25} {:<15}\".format(folder, len(files)))"
   ]
  },
  {
   "cell_type": "code",
   "execution_count": null,
   "metadata": {},
   "outputs": [],
   "source": []
  }
 ],
 "metadata": {
  "kernelspec": {
   "display_name": "Python 3",
   "language": "python",
   "name": "python3"
  },
  "language_info": {
   "codemirror_mode": {
    "name": "ipython",
    "version": 3
   },
   "file_extension": ".py",
   "mimetype": "text/x-python",
   "name": "python",
   "nbconvert_exporter": "python",
   "pygments_lexer": "ipython3",
   "version": "3.8.5"
  }
 },
 "nbformat": 4,
 "nbformat_minor": 4
}
